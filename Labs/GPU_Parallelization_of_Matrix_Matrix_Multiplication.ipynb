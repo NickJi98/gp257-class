{
 "cells": [
  {
   "cell_type": "markdown",
   "id": "79b83b7a",
   "metadata": {
    "id": "79b83b7a"
   },
   "source": [
    "\n",
    "# GPU Numba and CuPy Parallelization of Matrix Multiplication \n",
    "\n",
    "Similary to the multicore parallelization lab, in this lab we will be using Numba and CuPy to accelerate matrix-matrix multiplications using GPU. Accelerating the marrix-matrix multiplication operation is a good analog to accelerating other types of operators and computationally intense kernels, codes, and algorithms. Furthermore, the structure of matricies makes matrix-matrix multiplication a good place start learning how to parallelize code.\n",
    "\n",
    "\n",
    "## External Resources\n",
    "If you have any question regarding some specific Python functionality you can consult the official [Python documenation](http://docs.python.org/3/).\n",
    "\n",
    "* [Numba for CUDA](https://numba.readthedocs.io/en/stable/cuda/index.html)\n",
    "* [Writing Numba.CUDA kernels Notebook](https://github.com/ContinuumIO/gtc2017-numba/blob/master/4%20-%20Writing%20CUDA%20Kernels.ipynb)\n",
    "* [Numba.CUDA by Graham Markell](https://github.com/numba/nvidia-cuda-tutorial)\n",
    "* [NYU Numba CUDA Lab5](https://nyu-cds.github.io/python-numba/05-cuda/)\n",
    "* [CuPy Basics](https://docs.cupy.dev/en/stable/user_guide/basic.html)\n",
    "\n",
    "[//]: <> (GEOPHYS 257 Winter 2023)\n",
    "[//]: <> (Notebook Author: Thomas Cullison, Stanford University, Jan. 2023)"
   ]
  },
  {
   "cell_type": "markdown",
   "id": "cbff49d1",
   "metadata": {
    "id": "cbff49d1"
   },
   "source": [
    "<br>\n",
    "\n",
    "### Exercise 0\n",
    "\n",
    "* You need to request a *T4* node on the cluster. Don't forget that you need to add **--gres=gpu** to your srun command.\n",
    "* Reminder: on the *T4* nodes you need to load a different version of Python:\n",
    "```bash\n",
    "spack load python@3.10.7\n",
    "```\n",
    "\n",
    "* Import every Python module, object, and/or function that you need below."
   ]
  },
  {
   "cell_type": "code",
   "execution_count": 1,
   "id": "e913f671",
   "metadata": {
    "colab": {
     "base_uri": "https://localhost:8080/"
    },
    "id": "e913f671",
    "outputId": "7f8776a4-7f35-4c28-915e-8bc68971b1aa"
   },
   "outputs": [
    {
     "name": "stdout",
     "output_type": "stream",
     "text": [
      "<Managed Device 0>\n"
     ]
    }
   ],
   "source": [
    "from numba import cuda\n",
    "import numpy as np\n",
    "from time import time\n",
    "import cupy\n",
    "\n",
    "print(cuda.gpus)"
   ]
  },
  {
   "cell_type": "markdown",
   "id": "a00e9a09",
   "metadata": {
    "id": "a00e9a09"
   },
   "source": [
    "<br>\n",
    "\n",
    "### Exercise 1: Matrix Transpose\n",
    "\n",
    "Before we examine matrix-matrix multiplication, we will first write a GPU kernel that transposes a square matrix.  This type of problem is a good introduction into how to use the CUDA threading model. The task for this exercise is to write a Numba CUDA kernel that will transpose a square matrix. \n",
    "\n",
    "**Before you start**, take a look at the following:\n",
    "* Read over the following notebook that explains Numba.CUDA kernels: [Writing Numba.CUDA kernels Notebook](https://github.com/ContinuumIO/gtc2017-numba/blob/master/4%20-%20Writing%20CUDA%20Kernels.ipynb) \n",
    "* The first matrix-matrix multiplication code (the one that **doesn't** use shared memory) shown at [NYU Numba CUDA Lab5](https://nyu-cds.github.io/python-numba/05-cuda/). Understanding this code should give a pretty good idea on how to write the transpose kernel. The matrix-matrix kernel code from the NYU lab is shown below.\n",
    "```python\n",
    "@cuda.jit\n",
    "def matmul(A, B, C):\n",
    "    \"\"\"Perform matrix multiplication of C = A * B\n",
    "    \"\"\"\n",
    "    row, col = cuda.grid(2)\n",
    "    if row < C.shape[0] and col < C.shape[1]:\n",
    "        tmp = 0.\n",
    "        for k in range(A.shape[1]):\n",
    "            tmp += A[row, k] * B[k, col]\n",
    "        C[row, col] = tmp\n",
    "```\n",
    "\n",
    "**Tasks for this exercise**\n",
    "* Write a Numba.CUDA kernel that transpose an $NxN$ square matrix.\n",
    "* Be sure that the transpose kernel can transpose square matrices with sizes of $N$ as small as $N=2$ and as large as $N=10240$.\n",
    "* Using shared memory is **not** required.\n"
   ]
  },
  {
   "cell_type": "code",
   "execution_count": 3,
   "id": "ba3f5c59",
   "metadata": {
    "id": "ba3f5c59"
   },
   "outputs": [],
   "source": [
    "@cuda.jit\n",
    "def mat_trans(A, AT):\n",
    "    \"\"\" Perform matrix transpose of A\n",
    "    \"\"\"\n",
    "    \n",
    "    start_x, start_y = cuda.grid(2)\n",
    "    stride_x, stride_y = cuda.gridsize(2)\n",
    "\n",
    "    for i in range(start_x, A.shape[0], stride_x):\n",
    "        for j in range(start_y, A.shape[1], stride_y):\n",
    "            AT[j, i] = A[i, j]"
   ]
  },
  {
   "cell_type": "code",
   "execution_count": 4,
   "id": "ZwJ83lNKMjiI",
   "metadata": {
    "id": "ZwJ83lNKMjiI"
   },
   "outputs": [],
   "source": [
    "# Matrix size and float type\n",
    "N = 10240\n",
    "ftype = 'float64'\n",
    "\n",
    "# Create random matrix and copy to device\n",
    "h_A = np.random.random((N, N)).astype(ftype)\n",
    "d_A = cuda.to_device(h_A)\n",
    "\n",
    "# Allocate memory on device for transpose\n",
    "d_AT = cuda.device_array((N, N), dtype=ftype)\n",
    "\n",
    "# Configure the blocks\n",
    "max_threads_per_block = 16\n",
    "max_blocks_per_grid = 12\n",
    "\n",
    "threads_per_block = np.min([max_threads_per_block, N])\n",
    "blocks_per_grid = np.min([max_blocks_per_grid, N//threads_per_block])\n",
    "\n",
    "# Cuda kernel for transpose\n",
    "mat_trans[(blocks_per_grid, blocks_per_grid), (threads_per_block, threads_per_block)](d_A, d_AT)\n",
    "\n",
    "# Copy result back to host\n",
    "h_AT = d_AT.copy_to_host()\n",
    "\n",
    "# Check result\n",
    "assert np.all(h_AT == h_A.T), 'Result not correct!'"
   ]
  },
  {
   "cell_type": "markdown",
   "id": "12070622",
   "metadata": {
    "id": "12070622"
   },
   "source": [
    "<br>\n",
    "\n",
    "### Exercise 2: Using Numba CUDA to parallelize matrix multiplication: \n",
    "\n",
    "For this exercise, we will use Numba compiled GPU kernels that calculate matrix-matrix multiplication for square matrices. In particular, we will use a GPU kernel that doesn't used shared memory and compared to a GPU kernel that does use shared-memory. Please use the two kernel codes discussed in the following lab: [NYU Numba CUDA Lab5](https://nyu-cds.github.io/python-numba/05-cuda/). As you will see in this exercise, learning to use shared-memory (akin to user-controlled cache), can take a lot of practice, so in the next exercise, we examine how well the simple shared-memory kernel from the NYU lab compares to the optimized codes provided by NVIDIA in the CuPy package. \n",
    "\n",
    "#### The tasks for this exercise:\n",
    "1. Copy the matrix-matrix kernel codes from the NYU lab. Test them for accurracy against *numpy.dot()* and also compare time runtimes these GPU kernels the numpy.dot() function as well. **Note:** Use [CUDA events](https://numba.readthedocs.io/en/stable/cuda-reference/host.html#events) when timing GPU kernel calls because the driver does not \"block\" the calling process (for case this is IPython). Insted, the kernel is sent to the GPU to run, and then the process (IPython) immediately continues to it's next bit of code. Contrary to GPU kernel calls, calls to copy data to or from the GPU will block the process. For these cases, the calls can be timed the same way that other Python calls are timed.<br> **For both GPU kernels:**\n",
    "    - Test with square Matrices: $A,B \\in \\mathbb{R}^{N\\times N}$. For the cases when $N = 5120$, $N=10240$, and $N=20480$. **Tip**, first make sure you can get the GPU codes to work and that you get correct results by testing with $N_{test}=32$.\n",
    "    - For each $N$ above, test the multiplication for both dtypes: *dtype=float32* and *dtype=float64*.\n",
    "    - Calculate and show the error between your functions and the *numpy.dot()* function. \n",
    "    - Calculate and show the *speedup* (or *slowdown*) of your GPU kernel for each $N$ vs *numpy.dot()*. Be sure to include the array copy times in the \"total-gpu-kernel runtime.\n",
    "    - For each $N$ vs, calculate and show the *speedup* of your GPU kernel using *dtype=float32* vs *dtype=float64*. Be sure to include the array copy times in the \"total-gpu-kernel runtime.\"\n",
    "    \n",
    "<br>\n",
    "\n",
    "2. Create your matrices using random numbers. An example is shown below (feel free to copy this).\n",
    "\n",
    "```python\n",
    "h_A = np.random.random((N, N)).astype(np.<float-type>)\n",
    "h_B = np.random.random((N, N)).astype(np.<float-type>)\n",
    "```    \n",
    "<br>\n",
    "\n",
    "3. For the device memory:\n",
    "    - Create **d_A** and **d_B** by copying **h_A** and **h_B** to the GPU, and be sure to time the copies\n",
    "    - Create **d_C** as device-array that is allocated on the GPU (device) only, and not on the host (**Do Not Copy**)\n",
    "    \n",
    "<br>\n",
    "\n",
    "4. After the GPU matrix-matrix multiplication kernel finishes, **copy** the the *device-array* **d_C** to the *host-array* **h_C**, and be sure to time this copy.\n",
    "\n",
    "<br>\n",
    "\n",
    "5. Discuss your results in the markdown cell that follows your codes include in your discussion remarks about the speedup or slowdowns vs numpy as well as float32 vs float64. Remember, that your runtime for the GPU kernel include time to compile the kernel (not much you can do to control this). Futhermore, becasue you have to copy data to and off of the GPU, these copy times should be included in the \"total-gpu-kernel runtime.\" "
   ]
  },
  {
   "cell_type": "code",
   "execution_count": 5,
   "id": "99735477",
   "metadata": {
    "id": "99735477"
   },
   "outputs": [],
   "source": [
    "# Float type\n",
    "ftype = 'float32'\n",
    "\n",
    "# Controls threads per block and shared memory usage.\n",
    "# The computation will be done on blocks of TPB * TPB elements.\n",
    "TPB = 16\n",
    "\n",
    "# Matrix multiplication (WITHOUT shared memory)\n",
    "@cuda.jit\n",
    "def matmul(A, B, C):\n",
    "    \"\"\"Perform matrix multiplication of C = A * B\n",
    "    \"\"\"\n",
    "    start_x, start_y = cuda.grid(2)\n",
    "    stride_x, stride_y = cuda.gridsize(2)\n",
    "\n",
    "    for i in range(start_x, C.shape[0], stride_x):\n",
    "        for j in range(start_y, C.shape[1], stride_y):\n",
    "            tmp = 0.\n",
    "            for k in range(A.shape[1]):\n",
    "                tmp += A[i, k] * B[k, j]\n",
    "            C[i, j] = tmp\n",
    "\n",
    "\n",
    "# Matrix multiplication (WITH shared memory)\n",
    "@cuda.jit\n",
    "def fast_matmul(A, B, C):\n",
    "    \"\"\"\n",
    "    Perform matrix multiplication of C = A * B\n",
    "    Each thread computes one element of the result matrix C\n",
    "    \"\"\"\n",
    "\n",
    "    # Define an array in the shared memory\n",
    "    # The size and type of the arrays must be known at compile time\n",
    "    sA = cuda.shared.array(shape=(TPB, TPB), dtype=ftype)\n",
    "    sB = cuda.shared.array(shape=(TPB, TPB), dtype=ftype)\n",
    "\n",
    "    tx = cuda.threadIdx.x\n",
    "    ty = cuda.threadIdx.y\n",
    "\n",
    "    start_x, start_y = cuda.grid(2)\n",
    "    stride_x, stride_y = cuda.gridsize(2)\n",
    "    \n",
    "    for x in range(start_x, C.shape[0], stride_x):\n",
    "        for y in range(start_y, C.shape[1], stride_y):\n",
    "\n",
    "            # Each thread computes one element in the result matrix.\n",
    "            # The dot product is chunked into dot products of TPB-long vectors.\n",
    "            tmp = 0.\n",
    "            for i in range(int(A.shape[1] / TPB)):\n",
    "                # Preload data into shared memory\n",
    "                sA[tx, ty] = A[x, ty + i * TPB]\n",
    "                sB[tx, ty] = B[tx + i * TPB, y]\n",
    "\n",
    "                # Wait until all threads finish preloading\n",
    "                cuda.syncthreads()\n",
    "\n",
    "                # Computes partial product on the shared memory\n",
    "                for j in range(TPB):\n",
    "                    tmp += sA[tx, j] * sB[j, ty]\n",
    "\n",
    "                # Wait until all threads finish computing\n",
    "                cuda.syncthreads()\n",
    "\n",
    "            C[x, y] = tmp"
   ]
  },
  {
   "cell_type": "code",
   "execution_count": 18,
   "id": "QQiSYmdXUqhj",
   "metadata": {
    "id": "QQiSYmdXUqhj"
   },
   "outputs": [],
   "source": [
    "# Matrix size\n",
    "N = 5120\n",
    "\n",
    "# Create matrices\n",
    "h_A = np.random.random((N, N)).astype(ftype)\n",
    "h_B = np.random.random((N, N)).astype(ftype)"
   ]
  },
  {
   "cell_type": "code",
   "execution_count": 19,
   "id": "c9fe30c0",
   "metadata": {},
   "outputs": [],
   "source": [
    "# Np.dot time\n",
    "t1 = time()\n",
    "np_C = np.dot(h_A, h_B)\n",
    "t_np = time() - t1"
   ]
  },
  {
   "cell_type": "code",
   "execution_count": 20,
   "id": "IK6K5JOCP3aI",
   "metadata": {
    "colab": {
     "base_uri": "https://localhost:8080/"
    },
    "id": "IK6K5JOCP3aI",
    "outputId": "620abdbc-026e-4e8f-b690-b53db4d3f378"
   },
   "outputs": [
    {
     "name": "stdout",
     "output_type": "stream",
     "text": [
      "Element-wise error: 2.23675e-16. Epsilon for current float type: 2.22045e-16.\n",
      "Total GPU runtime: 6172.549 ms.\n",
      "Numpy runtime: 1164.853 ms.\n"
     ]
    }
   ],
   "source": [
    "# Matrix multiplication (WITHOUT shared memory)\n",
    "\n",
    "# Configure the blocks\n",
    "max_threads_per_block = 16\n",
    "max_blocks_per_grid = 24\n",
    "\n",
    "threads_per_block = np.min([max_threads_per_block, N])\n",
    "blocks_per_grid = np.max([max_blocks_per_grid, N//threads_per_block]) + 1\n",
    "\n",
    "# Start Cuda event timing\n",
    "ev_start = cuda.event(timing=True)\n",
    "ev_end = cuda.event(timing=True)\n",
    "ev_start.record()\n",
    "\n",
    "# Copy to device\n",
    "d_A = cuda.to_device(h_A)\n",
    "d_B = cuda.to_device(h_B)\n",
    "\n",
    "# Allocate memory on device for multiplication\n",
    "d_C = cuda.device_array((N, N), dtype=ftype)\n",
    "\n",
    "# Cuda kernel for transpose\n",
    "matmul[(blocks_per_grid, blocks_per_grid), (threads_per_block, threads_per_block)](d_A, d_B, d_C)\n",
    "\n",
    "# Copy result back to host\n",
    "h_C = d_C.copy_to_host()\n",
    "\n",
    "# End Cuda event timing\n",
    "ev_end.record()\n",
    "ev_end.synchronize()\n",
    "t_lapse = cuda.event_elapsed_time(ev_start, ev_end)\n",
    "\n",
    "# Check result\n",
    "print(f'Element-wise error: {np.mean(h_C - np_C):.6g}. Epsilon for current float type: {np.finfo(ftype).eps:.6g}.')\n",
    "print(f'Total GPU runtime: {(t_lapse/1e3):6.5f} s.')\n",
    "print(f'Numpy runtime: {t_np:6.5f} s.')"
   ]
  },
  {
   "cell_type": "code",
   "execution_count": 21,
   "id": "6r3-3DJ7Q0_x",
   "metadata": {
    "colab": {
     "base_uri": "https://localhost:8080/"
    },
    "id": "6r3-3DJ7Q0_x",
    "outputId": "71208e88-f49c-4a9b-d8c9-f5dea507c927"
   },
   "outputs": [
    {
     "name": "stdout",
     "output_type": "stream",
     "text": [
      "Element-wise error: 2.23675e-16. Epsilon for current float type: 2.22045e-16.\n",
      "Total GPU runtime: 6278.417 ms.\n",
      "Numpy runtime: 1164.853 ms.\n"
     ]
    }
   ],
   "source": [
    "# Matrix multiplication (WITH shared memory)\n",
    "\n",
    "# Configure the blocks\n",
    "threads_per_block = TPB\n",
    "blocks_per_grid = np.max([max_blocks_per_grid, N//threads_per_block])+1\n",
    "\n",
    "# Start Cuda event timing\n",
    "ev_start = cuda.event(timing=True)\n",
    "ev_end = cuda.event(timing=True)\n",
    "ev_start.record()\n",
    "\n",
    "# Copy to device\n",
    "d_A = cuda.to_device(h_A)\n",
    "d_B = cuda.to_device(h_B)\n",
    "\n",
    "# Allocate memory on device for multiplication\n",
    "d_C = cuda.device_array((N, N), dtype=ftype)\n",
    "\n",
    "# Cuda kernel for transpose\n",
    "fast_matmul[(blocks_per_grid, blocks_per_grid), (threads_per_block, threads_per_block)](d_A, d_B, d_C)\n",
    "\n",
    "# Copy result back to host\n",
    "h_C = d_C.copy_to_host()\n",
    "\n",
    "# End Cuda event timing\n",
    "ev_end.record()\n",
    "ev_end.synchronize()\n",
    "t_lapse = cuda.event_elapsed_time(ev_start, ev_end)\n",
    "\n",
    "# Check result\n",
    "print(f'Element-wise error: {np.mean(h_C - np.dot(h_A, h_B)):.6g}. Epsilon for current float type: {np.finfo(ftype).eps:.6g}.')\n",
    "print(f'Total GPU runtime: {(t_lapse/1e3):6.5f} s.')\n",
    "print(f'Numpy runtime: {t_np:6.5f} s.')"
   ]
  },
  {
   "cell_type": "markdown",
   "id": "a5f35012",
   "metadata": {
    "id": "a5f35012"
   },
   "source": [
    "<br>\n",
    "\n",
    "### Exercise 3: CuPy \n",
    "\n",
    "For this exercise, we will repeat what we did in *Exercise 2*. However, we will use *CuPy* functions, which are similar to *Numpy* funcstions with some added functions for copying data to-the-device-from-the-host and to-the-host-from-the-device. By using CuPy, we can depend on code that has been optimized for the GPU by NVIDIA, and instead of tyring to optimize our matrix-matrix multiplication kernels, we can use a built-in function to calculate the multiplication instead (i.e. [cupy.dot()](https://docs.cupy.dev/en/stable/reference/generated/cupy.dot.html#cupy.dot)).\n",
    "\n",
    "**Tasks for this exercise:**\n",
    "* Same as those listed in *Exercise 2*, but compare *cupy.dot()* to *numpy.dot()*.\n",
    "* Also, reuse the host-arrays, *h_A* and *h_B* above. You will need to call the appropriate *CuPy* fuctions to copy these arrays to the GPU and to copy the result back to the host. You will **not** need to declare the deive-C array before calling *cupy.dot()* because the function will do it for you (like numpy does).\n"
   ]
  },
  {
   "cell_type": "code",
   "execution_count": 13,
   "id": "2d6103d9",
   "metadata": {
    "id": "2d6103d9"
   },
   "outputs": [],
   "source": [
    "# Matrix size\n",
    "N = 5120\n",
    "\n",
    "# Float type\n",
    "ftype = 'float64'\n",
    "\n",
    "# Input matrix\n",
    "h_A = np.random.random((N, N)).astype(ftype)\n",
    "h_B = np.random.random((N, N)).astype(ftype)\n",
    "\n",
    "# Numpy function\n",
    "t1 = time()\n",
    "np_C = np.dot(h_A, h_B)\n",
    "t_np = time() - t1"
   ]
  },
  {
   "cell_type": "code",
   "execution_count": 14,
   "id": "1ec3165f",
   "metadata": {},
   "outputs": [
    {
     "name": "stdout",
     "output_type": "stream",
     "text": [
      "Cupy function time: 1.96741 s\n",
      "Numpy function time: 1.68340 s\n"
     ]
    }
   ],
   "source": [
    "# Cupy function\n",
    "\n",
    "# Start Cuda event timing\n",
    "ev_start = cuda.event(timing=True)\n",
    "ev_end = cuda.event(timing=True)\n",
    "ev_start.record()\n",
    "\n",
    "# Cupy matrix multiplication\n",
    "cu_A = cupy.asarray(h_A)\n",
    "cu_B = cupy.asarray(h_B)\n",
    "cu_C = cupy.dot(cu_A, cu_B)\n",
    "h_C = cupy.asnumpy(cu_C)\n",
    "\n",
    "# End Cuda event timing\n",
    "ev_end.record()\n",
    "ev_end.synchronize()\n",
    "t_lapse = cuda.event_elapsed_time(ev_start, ev_end)\n",
    "\n",
    "print(f'Cupy function time: {(t_lapse/1e3):6.5f} s')\n",
    "print(f'Numpy function time: {t_np:6.5f} s')"
   ]
  },
  {
   "cell_type": "markdown",
   "id": "294e1dfb",
   "metadata": {
    "id": "294e1dfb"
   },
   "source": [
    "<br>\n",
    "\n",
    "### Exercise $\\mathbf{\\pi}$: CuPy Interoperability\n",
    "\n",
    "Numba and CuPy device arrays (GPU arrays) can be accept each other's arrays. See [Interoperability](https://docs.cupy.dev/en/stable/user_guide/interoperability.html).\n",
    "\n",
    "**Tasks for this exercise**\n",
    "* Use the **device** arrays, **d_A** and **d_B**, that were created in *Exercise 2* to calculate the matrix-matrix multiplcation using *cupy.dot()*.\n",
    "* Verify that you get the same results as you did in *Exercise 3*.\n",
    "* You will need to \"wrap\" the device arrays before passing them to *cupy.dot()*. Read the *Interoperability* documentation linked above.\n",
    "    - Time how long it takes (runtime) to \"wrap\" these arrays.\n",
    "    - Compare this runtime to the runtime it took to create the device arrays in *Exercise 3*.\n",
    "    - Provide a quick comment your thoughts on the runtime differences compared above."
   ]
  },
  {
   "cell_type": "code",
   "execution_count": 15,
   "id": "7dbb6d9e",
   "metadata": {
    "id": "7dbb6d9e"
   },
   "outputs": [
    {
     "name": "stdout",
     "output_type": "stream",
     "text": [
      "From Host to Cupy array: 108.93581 ms\n",
      "From Host to Device: 94.06803 ms\n",
      "From Device to Cupy array: 0.45290 ms\n"
     ]
    }
   ],
   "source": [
    "# Start timing\n",
    "ev_start = cuda.event(timing=True)\n",
    "ev_end = cuda.event(timing=True)\n",
    "ev_start.record()\n",
    "\n",
    "# Host to Cupy array\n",
    "cu_A1 = cupy.asarray(h_A)\n",
    "cu_B1 = cupy.asarray(h_B)\n",
    "\n",
    "# End timing\n",
    "ev_end.record()\n",
    "ev_end.synchronize()\n",
    "t_lapse = cuda.event_elapsed_time(ev_start, ev_end)\n",
    "\n",
    "print(f'From Host to Cupy array: {t_lapse:6.5f} ms')\n",
    "\n",
    "# Start timing\n",
    "ev_start = cuda.event(timing=True)\n",
    "ev_end = cuda.event(timing=True)\n",
    "ev_start.record()\n",
    "\n",
    "# Host to Device\n",
    "d_A = cuda.to_device(h_A)\n",
    "d_B = cuda.to_device(h_B)\n",
    "\n",
    "# End timing\n",
    "ev_end.record()\n",
    "ev_end.synchronize()\n",
    "t_lapse = cuda.event_elapsed_time(ev_start, ev_end)\n",
    "\n",
    "print(f'From Host to Device: {t_lapse:6.5f} ms')\n",
    "\n",
    "# Start timing\n",
    "ev_start = cuda.event(timing=True)\n",
    "ev_end = cuda.event(timing=True)\n",
    "ev_start.record()\n",
    "\n",
    "# Device to Cupy array\n",
    "cu_A2 = cupy.asarray(d_A)\n",
    "cu_B2 = cupy.asarray(d_B)\n",
    "\n",
    "# End timing\n",
    "ev_end.record()\n",
    "ev_end.synchronize()\n",
    "t_lapse = cuda.event_elapsed_time(ev_start, ev_end)\n",
    "\n",
    "print(f'From Device to Cupy array: {t_lapse:6.5f} ms')"
   ]
  },
  {
   "cell_type": "code",
   "execution_count": 16,
   "id": "c24032b1",
   "metadata": {},
   "outputs": [],
   "source": [
    "cu_C2 = cupy.dot(cu_A2, cu_B2)\n",
    "h_C2 = cupy.asnumpy(cu_C2)\n",
    "\n",
    "assert np.all(np.abs(h_C2 - h_C)) == 0, 'Result not correct!'"
   ]
  }
 ],
 "metadata": {
  "accelerator": "GPU",
  "colab": {
   "provenance": []
  },
  "gpuClass": "standard",
  "kernelspec": {
   "display_name": "Python 3 (ipykernel)",
   "language": "python",
   "name": "python3"
  },
  "language_info": {
   "codemirror_mode": {
    "name": "ipython",
    "version": 3
   },
   "file_extension": ".py",
   "mimetype": "text/x-python",
   "name": "python",
   "nbconvert_exporter": "python",
   "pygments_lexer": "ipython3",
   "version": "3.10.7"
  }
 },
 "nbformat": 4,
 "nbformat_minor": 5
}
